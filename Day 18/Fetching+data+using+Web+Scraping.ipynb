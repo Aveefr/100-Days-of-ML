{
 "cells": [
  {
   "cell_type": "code",
   "execution_count": 2,
   "metadata": {},
   "outputs": [],
   "source": [
    "import pandas as pd\n",
    "import requests\n",
    "from bs4 import BeautifulSoup"
   ]
  },
  {
   "cell_type": "code",
   "execution_count": 3,
   "metadata": {},
   "outputs": [],
   "source": [
    "headers = {'User-Agent' : 'Mozilla/5.0 (Windows NT 10.0; Win64; x64) AppleWebKit/537.36 (KHTML, like Gecko) Chrome/125.0.0.0 Safari/537.36 Edg/125.0.0.0'}\n",
    "web_page = requests.get('https://www.ambitionbox.com/list-of-companies?page=1', headers=headers).text"
   ]
  },
  {
   "cell_type": "code",
   "execution_count": null,
   "metadata": {},
   "outputs": [],
   "source": [
    "soup = BeautifulSoup(web_page, 'lxml')"
   ]
  },
  {
   "cell_type": "code",
   "execution_count": null,
   "metadata": {},
   "outputs": [],
   "source": [
    "company = soup.find_all('div', class_='companyCardWrapper')"
   ]
  },
  {
   "cell_type": "code",
   "execution_count": null,
   "metadata": {},
   "outputs": [
    {
     "data": {
      "text/plain": [
       "'IT Services & Consulting | 1 Lakh+ Employees | Public | 56 years old | Mumbai +351 more'"
      ]
     },
     "execution_count": 5,
     "metadata": {},
     "output_type": "execute_result"
    }
   ],
   "source": [
    "company[0].find('span', class_='companyCardWrapper__interLinking').text.strip()"
   ]
  },
  {
   "cell_type": "code",
   "execution_count": null,
   "metadata": {},
   "outputs": [
    {
     "data": {
      "text/plain": [
       "20"
      ]
     },
     "execution_count": 6,
     "metadata": {},
     "output_type": "execute_result"
    }
   ],
   "source": [
    "len(company)"
   ]
  },
  {
   "cell_type": "code",
   "execution_count": null,
   "metadata": {},
   "outputs": [
    {
     "data": {
      "text/plain": [
       "['IT Services & Consulting ',\n",
       " ' 1 Lakh+ Employees ',\n",
       " ' Public ',\n",
       " ' 56 years old ',\n",
       " ' Mumbai +351 more']"
      ]
     },
     "execution_count": 7,
     "metadata": {},
     "output_type": "execute_result"
    }
   ],
   "source": [
    "soup.find('span', class_='companyCardWrapper__interLinking').text.strip().split('|')"
   ]
  },
  {
   "cell_type": "code",
   "execution_count": null,
   "metadata": {},
   "outputs": [],
   "source": [
    "name = []\n",
    "rating = []\n",
    "reviews = []\n",
    "abt = []\n",
    "\n",
    "for i in company:\n",
    "    name.append(i.find('h2').text.strip())\n",
    "    rating.append(i.find('span', class_='companyCardWrapper__companyRatingValue').text)\n",
    "    reviews.append(i.find('span', class_='companyCardWrapper__ActionCount').text)\n",
    "    abt.append(i.find('span', class_='companyCardWrapper__interLinking').text.strip().split('|'))"
   ]
  },
  {
   "cell_type": "code",
   "execution_count": null,
   "metadata": {},
   "outputs": [],
   "source": [
    "d = {'name': name, 'rating' : rating, 'reviews' : reviews, 'About': abt}"
   ]
  },
  {
   "cell_type": "code",
   "execution_count": null,
   "metadata": {},
   "outputs": [],
   "source": [
    "df = pd.DataFrame(d)"
   ]
  },
  {
   "cell_type": "code",
   "execution_count": null,
   "metadata": {},
   "outputs": [
    {
     "data": {
      "text/html": [
       "<div>\n",
       "<style scoped>\n",
       "    .dataframe tbody tr th:only-of-type {\n",
       "        vertical-align: middle;\n",
       "    }\n",
       "\n",
       "    .dataframe tbody tr th {\n",
       "        vertical-align: top;\n",
       "    }\n",
       "\n",
       "    .dataframe thead th {\n",
       "        text-align: right;\n",
       "    }\n",
       "</style>\n",
       "<table border=\"1\" class=\"dataframe\">\n",
       "  <thead>\n",
       "    <tr style=\"text-align: right;\">\n",
       "      <th></th>\n",
       "      <th>name</th>\n",
       "      <th>rating</th>\n",
       "      <th>reviews</th>\n",
       "      <th>About</th>\n",
       "    </tr>\n",
       "  </thead>\n",
       "  <tbody>\n",
       "    <tr>\n",
       "      <th>0</th>\n",
       "      <td>TCS</td>\n",
       "      <td>3.8</td>\n",
       "      <td>78.1k</td>\n",
       "      <td>[IT Services &amp; Consulting ,  1 Lakh+ Employees...</td>\n",
       "    </tr>\n",
       "    <tr>\n",
       "      <th>1</th>\n",
       "      <td>Accenture</td>\n",
       "      <td>4.0</td>\n",
       "      <td>48.7k</td>\n",
       "      <td>[IT Services &amp; Consulting ,  1 Lakh+ Employees...</td>\n",
       "    </tr>\n",
       "    <tr>\n",
       "      <th>2</th>\n",
       "      <td>Cognizant</td>\n",
       "      <td>3.9</td>\n",
       "      <td>44k</td>\n",
       "      <td>[IT Services &amp; Consulting ,  1 Lakh+ Employees...</td>\n",
       "    </tr>\n",
       "    <tr>\n",
       "      <th>3</th>\n",
       "      <td>Wipro</td>\n",
       "      <td>3.8</td>\n",
       "      <td>41.8k</td>\n",
       "      <td>[IT Services &amp; Consulting ,  1 Lakh+ Employees...</td>\n",
       "    </tr>\n",
       "    <tr>\n",
       "      <th>4</th>\n",
       "      <td>Capgemini</td>\n",
       "      <td>3.8</td>\n",
       "      <td>36k</td>\n",
       "      <td>[IT Services &amp; Consulting ,  1 Lakh+ Employees...</td>\n",
       "    </tr>\n",
       "  </tbody>\n",
       "</table>\n",
       "</div>"
      ],
      "text/plain": [
       "        name rating reviews                                              About\n",
       "0        TCS    3.8   78.1k  [IT Services & Consulting ,  1 Lakh+ Employees...\n",
       "1  Accenture    4.0   48.7k  [IT Services & Consulting ,  1 Lakh+ Employees...\n",
       "2  Cognizant    3.9     44k  [IT Services & Consulting ,  1 Lakh+ Employees...\n",
       "3      Wipro    3.8   41.8k  [IT Services & Consulting ,  1 Lakh+ Employees...\n",
       "4  Capgemini    3.8     36k  [IT Services & Consulting ,  1 Lakh+ Employees..."
      ]
     },
     "execution_count": 11,
     "metadata": {},
     "output_type": "execute_result"
    }
   ],
   "source": [
    "df.head()"
   ]
  },
  {
   "cell_type": "code",
   "execution_count": null,
   "metadata": {},
   "outputs": [],
   "source": [
    "for j in range(1,2):\n",
    "    \n",
    "    url = f'https://www.ambitionbox.com/list-of-companies?page={j}'\n",
    "    \n",
    "    headers = {'User-Agent' : 'Mozilla/5.0 (Windows NT 10.0; Win64; x64) AppleWebKit/537.36 (KHTML, like Gecko) Chrome/125.0.0.0 Safari/537.36 Edg/125.0.0.0'}\n",
    "    web_page = requests.get(url, headers=headers).text\n",
    "    \n",
    "    soup = BeautifulSoup(web_page, 'lxml')\n",
    "    company = soup.find_all('div', class_='companyCardWrapper')\n",
    "    \n",
    "    name = []\n",
    "    rating = []\n",
    "    reviews = []\n",
    "    abt = []\n",
    "\n",
    "    for i in company:\n",
    "        name.append(i.find('h2').text.strip())\n",
    "        rating.append(i.find('span', class_='companyCardWrapper__companyRatingValue').text)\n",
    "        reviews.append(i.find('span', class_='companyCardWrapper__ActionCount').text)\n",
    "        abt.append(i.find('span', class_='companyCardWrapper__interLinking').text.strip().split('|'))\n",
    "        \n",
    "        d = {'name': name, 'rating' : rating, 'reviews' : reviews, 'About': abt}\n",
    "        df = pd.DataFrame(d)\n",
    "        \n",
    "        final = final.append(df)"
   ]
  },
  {
   "cell_type": "code",
   "execution_count": null,
   "metadata": {},
   "outputs": [
    {
     "data": {
      "text/html": [
       "<div>\n",
       "<style scoped>\n",
       "    .dataframe tbody tr th:only-of-type {\n",
       "        vertical-align: middle;\n",
       "    }\n",
       "\n",
       "    .dataframe tbody tr th {\n",
       "        vertical-align: top;\n",
       "    }\n",
       "\n",
       "    .dataframe thead th {\n",
       "        text-align: right;\n",
       "    }\n",
       "</style>\n",
       "<table border=\"1\" class=\"dataframe\">\n",
       "  <thead>\n",
       "    <tr style=\"text-align: right;\">\n",
       "      <th></th>\n",
       "      <th>name</th>\n",
       "      <th>rating</th>\n",
       "      <th>reviews</th>\n",
       "      <th>About</th>\n",
       "    </tr>\n",
       "  </thead>\n",
       "  <tbody>\n",
       "    <tr>\n",
       "      <th>0</th>\n",
       "      <td>TCS</td>\n",
       "      <td>3.8</td>\n",
       "      <td>75.1k</td>\n",
       "      <td>[IT Services &amp; Consulting ,  1 Lakh+ Employees...</td>\n",
       "    </tr>\n",
       "    <tr>\n",
       "      <th>0</th>\n",
       "      <td>TCS</td>\n",
       "      <td>3.8</td>\n",
       "      <td>75.1k</td>\n",
       "      <td>[IT Services &amp; Consulting ,  1 Lakh+ Employees...</td>\n",
       "    </tr>\n",
       "    <tr>\n",
       "      <th>1</th>\n",
       "      <td>Accenture</td>\n",
       "      <td>4.0</td>\n",
       "      <td>46.8k</td>\n",
       "      <td>[IT Services &amp; Consulting ,  1 Lakh+ Employees...</td>\n",
       "    </tr>\n",
       "    <tr>\n",
       "      <th>0</th>\n",
       "      <td>TCS</td>\n",
       "      <td>3.8</td>\n",
       "      <td>75.1k</td>\n",
       "      <td>[IT Services &amp; Consulting ,  1 Lakh+ Employees...</td>\n",
       "    </tr>\n",
       "    <tr>\n",
       "      <th>1</th>\n",
       "      <td>Accenture</td>\n",
       "      <td>4.0</td>\n",
       "      <td>46.8k</td>\n",
       "      <td>[IT Services &amp; Consulting ,  1 Lakh+ Employees...</td>\n",
       "    </tr>\n",
       "  </tbody>\n",
       "</table>\n",
       "</div>"
      ],
      "text/plain": [
       "        name rating reviews                                              About\n",
       "0        TCS    3.8   75.1k  [IT Services & Consulting ,  1 Lakh+ Employees...\n",
       "0        TCS    3.8   75.1k  [IT Services & Consulting ,  1 Lakh+ Employees...\n",
       "1  Accenture    4.0   46.8k  [IT Services & Consulting ,  1 Lakh+ Employees...\n",
       "0        TCS    3.8   75.1k  [IT Services & Consulting ,  1 Lakh+ Employees...\n",
       "1  Accenture    4.0   46.8k  [IT Services & Consulting ,  1 Lakh+ Employees..."
      ]
     },
     "execution_count": 133,
     "metadata": {},
     "output_type": "execute_result"
    }
   ],
   "source": [
    "final.head()"
   ]
  },
  {
   "cell_type": "code",
   "execution_count": null,
   "metadata": {},
   "outputs": [
    {
     "data": {
      "text/plain": [
       "(41028, 4)"
      ]
     },
     "execution_count": 134,
     "metadata": {},
     "output_type": "execute_result"
    }
   ],
   "source": [
    "final.shape"
   ]
  },
  {
   "cell_type": "code",
   "execution_count": null,
   "metadata": {},
   "outputs": [],
   "source": [
    "#final.to_csv('top+recruiting+companies+in+india')"
   ]
  },
  {
   "cell_type": "code",
   "execution_count": null,
   "metadata": {},
   "outputs": [],
   "source": []
  }
 ],
 "metadata": {
  "kernelspec": {
   "display_name": "base",
   "language": "python",
   "name": "python3"
  },
  "language_info": {
   "codemirror_mode": {
    "name": "ipython",
    "version": 3
   },
   "file_extension": ".py",
   "mimetype": "text/x-python",
   "name": "python",
   "nbconvert_exporter": "python",
   "pygments_lexer": "ipython3",
   "version": "3.12.4"
  }
 },
 "nbformat": 4,
 "nbformat_minor": 2
}
